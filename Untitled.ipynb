{
 "cells": [
  {
   "cell_type": "code",
   "execution_count": 6,
   "id": "f505de01-df1a-4faf-8695-9873f96dfe09",
   "metadata": {},
   "outputs": [],
   "source": [
    "import pandas as pd\n",
    "import numpy as np\n",
    "from sklearn.feature_extraction.text import CountVectorizer\n",
    "from sklearn.model_selection import train_test_split\n",
    "from sklearn.naive_bayes import BernoulliNB"
   ]
  },
  {
   "cell_type": "code",
   "execution_count": 13,
   "id": "df53d2e2-03b9-4103-9610-0ef27813f07d",
   "metadata": {},
   "outputs": [
    {
     "data": {
      "text/html": [
       "<div>\n",
       "<style scoped>\n",
       "    .dataframe tbody tr th:only-of-type {\n",
       "        vertical-align: middle;\n",
       "    }\n",
       "\n",
       "    .dataframe tbody tr th {\n",
       "        vertical-align: top;\n",
       "    }\n",
       "\n",
       "    .dataframe thead th {\n",
       "        text-align: right;\n",
       "    }\n",
       "</style>\n",
       "<table border=\"1\" class=\"dataframe\">\n",
       "  <thead>\n",
       "    <tr style=\"text-align: right;\">\n",
       "      <th></th>\n",
       "      <th>COMMENT_ID</th>\n",
       "      <th>AUTHOR</th>\n",
       "      <th>DATE</th>\n",
       "      <th>CONTENT</th>\n",
       "      <th>CLASS</th>\n",
       "    </tr>\n",
       "  </thead>\n",
       "  <tbody>\n",
       "    <tr>\n",
       "      <th>181</th>\n",
       "      <td>z13neh044nq2wn0o404citkh2taufzqxuz40k</td>\n",
       "      <td>Mason Sieverding</td>\n",
       "      <td>2014-11-07T01:50:10</td>\n",
       "      <td>Please check out my vidios﻿</td>\n",
       "      <td>1</td>\n",
       "    </tr>\n",
       "    <tr>\n",
       "      <th>160</th>\n",
       "      <td>z12scr5ixnexwh2xa04civ3o3k25dr3wkfw</td>\n",
       "      <td>Freddie Barton</td>\n",
       "      <td>2014-11-06T15:31:35</td>\n",
       "      <td>CHECK MY CHANNEL FOR MY NEW SONG 'STATIC'!! YO...</td>\n",
       "      <td>1</td>\n",
       "    </tr>\n",
       "    <tr>\n",
       "      <th>267</th>\n",
       "      <td>z12cwnzbunaji14ah04cf3jizmzpz3igxj4</td>\n",
       "      <td>CHILD</td>\n",
       "      <td>2014-11-08T05:46:31</td>\n",
       "      <td>WHY DOES THIS HAVE 2 BILLION VIEWS THIS SONG I...</td>\n",
       "      <td>0</td>\n",
       "    </tr>\n",
       "    <tr>\n",
       "      <th>18</th>\n",
       "      <td>z12qth5j0ob1fx3q404chvy4fz32tbkpllk0k</td>\n",
       "      <td>Tony K Frazier</td>\n",
       "      <td>2013-11-28T23:57:13</td>\n",
       "      <td>http://ubuntuone.com/40beUutVu2ZKxK4uTgPZ8K﻿</td>\n",
       "      <td>1</td>\n",
       "    </tr>\n",
       "    <tr>\n",
       "      <th>7</th>\n",
       "      <td>z122wfnzgt30fhubn04cdn3xfx2mxzngsl40k</td>\n",
       "      <td>Bob Kanowski</td>\n",
       "      <td>2013-11-28T12:33:27</td>\n",
       "      <td>i turned it on mute as soon is i came on i jus...</td>\n",
       "      <td>0</td>\n",
       "    </tr>\n",
       "  </tbody>\n",
       "</table>\n",
       "</div>"
      ],
      "text/plain": [
       "                                COMMENT_ID            AUTHOR  \\\n",
       "181  z13neh044nq2wn0o404citkh2taufzqxuz40k  Mason Sieverding   \n",
       "160    z12scr5ixnexwh2xa04civ3o3k25dr3wkfw    Freddie Barton   \n",
       "267    z12cwnzbunaji14ah04cf3jizmzpz3igxj4             CHILD   \n",
       "18   z12qth5j0ob1fx3q404chvy4fz32tbkpllk0k    Tony K Frazier   \n",
       "7    z122wfnzgt30fhubn04cdn3xfx2mxzngsl40k      Bob Kanowski   \n",
       "\n",
       "                    DATE                                            CONTENT  \\\n",
       "181  2014-11-07T01:50:10                        Please check out my vidios﻿   \n",
       "160  2014-11-06T15:31:35  CHECK MY CHANNEL FOR MY NEW SONG 'STATIC'!! YO...   \n",
       "267  2014-11-08T05:46:31  WHY DOES THIS HAVE 2 BILLION VIEWS THIS SONG I...   \n",
       "18   2013-11-28T23:57:13       http://ubuntuone.com/40beUutVu2ZKxK4uTgPZ8K﻿   \n",
       "7    2013-11-28T12:33:27  i turned it on mute as soon is i came on i jus...   \n",
       "\n",
       "     CLASS  \n",
       "181      1  \n",
       "160      1  \n",
       "267      0  \n",
       "18       1  \n",
       "7        0  "
      ]
     },
     "execution_count": 13,
     "metadata": {},
     "output_type": "execute_result"
    }
   ],
   "source": [
    "data=pd.read_csv(\"Youtube01-Psy.csv\")\n",
    "data.sample(5)"
   ]
  },
  {
   "cell_type": "code",
   "execution_count": 15,
   "id": "2aa420aa-e704-4619-baec-1ba1a42d1eb1",
   "metadata": {},
   "outputs": [],
   "source": [
    "data=data[[\"CONTENT\",\"CLASS\"]]"
   ]
  },
  {
   "cell_type": "code",
   "execution_count": 17,
   "id": "cb0b39f8-4e31-4114-b8c8-15164684848d",
   "metadata": {},
   "outputs": [
    {
     "data": {
      "text/html": [
       "<div>\n",
       "<style scoped>\n",
       "    .dataframe tbody tr th:only-of-type {\n",
       "        vertical-align: middle;\n",
       "    }\n",
       "\n",
       "    .dataframe tbody tr th {\n",
       "        vertical-align: top;\n",
       "    }\n",
       "\n",
       "    .dataframe thead th {\n",
       "        text-align: right;\n",
       "    }\n",
       "</style>\n",
       "<table border=\"1\" class=\"dataframe\">\n",
       "  <thead>\n",
       "    <tr style=\"text-align: right;\">\n",
       "      <th></th>\n",
       "      <th>CONTENT</th>\n",
       "      <th>CLASS</th>\n",
       "    </tr>\n",
       "  </thead>\n",
       "  <tbody>\n",
       "    <tr>\n",
       "      <th>305</th>\n",
       "      <td>please throw a sub on my channel﻿</td>\n",
       "      <td>1</td>\n",
       "    </tr>\n",
       "    <tr>\n",
       "      <th>297</th>\n",
       "      <td>Please help me go to college guys! Thanks from...</td>\n",
       "      <td>1</td>\n",
       "    </tr>\n",
       "    <tr>\n",
       "      <th>193</th>\n",
       "      <td>How are there 2 billion views and theres only ...</td>\n",
       "      <td>0</td>\n",
       "    </tr>\n",
       "    <tr>\n",
       "      <th>182</th>\n",
       "      <td>OPPA GANGNAM STYLE!!!﻿</td>\n",
       "      <td>0</td>\n",
       "    </tr>\n",
       "    <tr>\n",
       "      <th>110</th>\n",
       "      <td>EHI GUYS CAN YOU SUBSCRIBE IN MY CHANNEL? I AM...</td>\n",
       "      <td>1</td>\n",
       "    </tr>\n",
       "  </tbody>\n",
       "</table>\n",
       "</div>"
      ],
      "text/plain": [
       "                                               CONTENT  CLASS\n",
       "305                  please throw a sub on my channel﻿      1\n",
       "297  Please help me go to college guys! Thanks from...      1\n",
       "193  How are there 2 billion views and theres only ...      0\n",
       "182                             OPPA GANGNAM STYLE!!!﻿      0\n",
       "110  EHI GUYS CAN YOU SUBSCRIBE IN MY CHANNEL? I AM...      1"
      ]
     },
     "execution_count": 17,
     "metadata": {},
     "output_type": "execute_result"
    }
   ],
   "source": [
    "data.sample(5)"
   ]
  },
  {
   "cell_type": "code",
   "execution_count": 18,
   "id": "a6964060-8f04-4fcb-88d4-b1e6cd48372b",
   "metadata": {},
   "outputs": [],
   "source": [
    "replace=data[\"CLASS\"].replace({0:\"Not Spam\",1:\"Spam\"})\n",
    "data[\"CLASS\"]=replace"
   ]
  },
  {
   "cell_type": "code",
   "execution_count": 22,
   "id": "37c809a9-3f1a-4f1f-b68b-785832f7405c",
   "metadata": {},
   "outputs": [
    {
     "data": {
      "text/html": [
       "<div>\n",
       "<style scoped>\n",
       "    .dataframe tbody tr th:only-of-type {\n",
       "        vertical-align: middle;\n",
       "    }\n",
       "\n",
       "    .dataframe tbody tr th {\n",
       "        vertical-align: top;\n",
       "    }\n",
       "\n",
       "    .dataframe thead th {\n",
       "        text-align: right;\n",
       "    }\n",
       "</style>\n",
       "<table border=\"1\" class=\"dataframe\">\n",
       "  <thead>\n",
       "    <tr style=\"text-align: right;\">\n",
       "      <th></th>\n",
       "      <th>CONTENT</th>\n",
       "      <th>CLASS</th>\n",
       "    </tr>\n",
       "  </thead>\n",
       "  <tbody>\n",
       "    <tr>\n",
       "      <th>111</th>\n",
       "      <td>Hi everyone! Do you like music? Then why not c...</td>\n",
       "      <td>Spam</td>\n",
       "    </tr>\n",
       "    <tr>\n",
       "      <th>78</th>\n",
       "      <td>-----&amp;gt;&amp;gt;&amp;gt;&amp;gt;  https://www.facebook.co...</td>\n",
       "      <td>Spam</td>\n",
       "    </tr>\n",
       "    <tr>\n",
       "      <th>64</th>\n",
       "      <td>the most viewed youtube video of all time?﻿</td>\n",
       "      <td>Not Spam</td>\n",
       "    </tr>\n",
       "    <tr>\n",
       "      <th>21</th>\n",
       "      <td>subscribe to my channel people :D﻿</td>\n",
       "      <td>Spam</td>\n",
       "    </tr>\n",
       "    <tr>\n",
       "      <th>290</th>\n",
       "      <td>2 billion for this shit?﻿</td>\n",
       "      <td>Not Spam</td>\n",
       "    </tr>\n",
       "  </tbody>\n",
       "</table>\n",
       "</div>"
      ],
      "text/plain": [
       "                                               CONTENT     CLASS\n",
       "111  Hi everyone! Do you like music? Then why not c...      Spam\n",
       "78   -----&gt;&gt;&gt;&gt;  https://www.facebook.co...      Spam\n",
       "64         the most viewed youtube video of all time?﻿  Not Spam\n",
       "21                  subscribe to my channel people :D﻿      Spam\n",
       "290                          2 billion for this shit?﻿  Not Spam"
      ]
     },
     "execution_count": 22,
     "metadata": {},
     "output_type": "execute_result"
    }
   ],
   "source": [
    "data.sample(5)"
   ]
  },
  {
   "cell_type": "code",
   "execution_count": 40,
   "id": "72fa3d4f-a4f3-4325-8189-63c022ecbd10",
   "metadata": {},
   "outputs": [],
   "source": [
    "x=np.array(data[\"CONTENT\"])\n",
    "y=np.array(data[\"CLASS\"])\n",
    "\n",
    "cv=CounterVectorizer()\n",
    "x=cv.fit_transform(x)\n"
   ]
  },
  {
   "cell_type": "markdown",
   "id": "33ecb34d-18e5-4c60-abb6-d2f99d713210",
   "metadata": {},
   "source": [
    "## Splitting the Data:"
   ]
  },
  {
   "cell_type": "code",
   "execution_count": 42,
   "id": "b48da405-d266-4d35-b830-1d2e93d523a3",
   "metadata": {},
   "outputs": [],
   "source": [
    "xtrain,xtest,ytrain,ytest=train_test_split(x,y,test_size=0.2,random_state=42)"
   ]
  },
  {
   "cell_type": "code",
   "execution_count": 49,
   "id": "1e2bd8fe-9b29-425e-8294-5921e13a7719",
   "metadata": {},
   "outputs": [
    {
     "name": "stdout",
     "output_type": "stream",
     "text": [
      "0.9857142857142858\n"
     ]
    }
   ],
   "source": [
    "model=BernoulliNB()\n",
    "model.fit(xtrain,ytrain)\n",
    "print(model.score(xtest,ytest))"
   ]
  },
  {
   "cell_type": "code",
   "execution_count": 50,
   "id": "fb75dba8-08ba-4a7f-af37-5815ed42cf50",
   "metadata": {},
   "outputs": [
    {
     "name": "stdout",
     "output_type": "stream",
     "text": [
      "['Spam']\n"
     ]
    }
   ],
   "source": [
    "sample = \"Check this out: https://thecleverprogrammer.com/\" \n",
    "data = cv.transform([sample]).toarray()\n",
    "print(model.predict(data))"
   ]
  },
  {
   "cell_type": "code",
   "execution_count": 66,
   "id": "ff49bb0a-e9c1-4601-b2ae-de95133661ac",
   "metadata": {},
   "outputs": [
    {
     "name": "stdout",
     "output_type": "stream",
     "text": [
      "['Not Spam']\n"
     ]
    }
   ],
   "source": [
    "sample = \"my video\" \n",
    "data = cv.transform([sample]).toarray()\n",
    "print(model.predict(data))"
   ]
  },
  {
   "cell_type": "code",
   "execution_count": null,
   "id": "47a62962-efea-40f8-af6c-0648c1b6d6b4",
   "metadata": {},
   "outputs": [],
   "source": []
  }
 ],
 "metadata": {
  "kernelspec": {
   "display_name": "Python 3 (ipykernel)",
   "language": "python",
   "name": "python3"
  },
  "language_info": {
   "codemirror_mode": {
    "name": "ipython",
    "version": 3
   },
   "file_extension": ".py",
   "mimetype": "text/x-python",
   "name": "python",
   "nbconvert_exporter": "python",
   "pygments_lexer": "ipython3",
   "version": "3.12.4"
  }
 },
 "nbformat": 4,
 "nbformat_minor": 5
}
